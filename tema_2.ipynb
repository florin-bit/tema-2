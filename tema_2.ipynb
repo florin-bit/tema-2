{
 "cells": [
  {
   "cell_type": "code",
   "execution_count": 1,
   "metadata": {},
   "outputs": [],
   "source": [
    "# 1)\n",
    "import numpy as np"
   ]
  },
  {
   "cell_type": "code",
   "execution_count": 2,
   "metadata": {},
   "outputs": [
    {
     "name": "stdout",
     "output_type": "stream",
     "text": [
      "[[0. 0. 0. 0. 0. 0. 0. 0. 0. 0.]]\n"
     ]
    }
   ],
   "source": [
    "# 2) create 10 zeroes\n",
    "a=np.zeros((1,10))\n",
    "print(a)"
   ]
  },
  {
   "cell_type": "code",
   "execution_count": 3,
   "metadata": {},
   "outputs": [
    {
     "name": "stdout",
     "output_type": "stream",
     "text": [
      "[10 11 12 13 14 15 16 17 18 19 20 21 22 23 24 25 26 27 28 29 30 31 32 33\n",
      " 34 35 36 37 38 39 40 41 42 43 44 45 46 47 48 49 50 51 52 53 54 55 56 57\n",
      " 58 59 60 61 62 63 64 65 66 67 68 69 70 71 72 73 74 75 76 77 78 79 80 81\n",
      " 82 83 84 85 86 87 88 89 90 91 92 93 94 95 96 97 98 99]\n"
     ]
    }
   ],
   "source": [
    "# 3) create a vector with values ranging from 10 to 100\n",
    "vector=np.arange(10, 100)\n",
    "print(vector)"
   ]
  },
  {
   "cell_type": "code",
   "execution_count": 16,
   "metadata": {},
   "outputs": [
    {
     "name": "stdout",
     "output_type": "stream",
     "text": [
      "Vectorul inversat este: [99 98 97 96 95 94 93 92 91 90 89 88 87 86 85 84 83 82 81 80 79 78 77 76\n",
      " 75 74 73 72 71 70 69 68 67 66 65 64 63 62 61 60 59 58 57 56 55 54 53 52\n",
      " 51 50 49 48 47 46 45 44 43 42 41 40 39 38 37 36 35 34 33 32 31 30 29 28\n",
      " 27 26 25 24 23 22 21 20 19 18 17 16 15 14 13 12 11 10]\n"
     ]
    }
   ],
   "source": [
    "# 4) reverse it\n",
    "print(f'Vectorul inversat este: {vector[::-1]}')"
   ]
  },
  {
   "cell_type": "code",
   "execution_count": 5,
   "metadata": {},
   "outputs": [
    {
     "name": "stdout",
     "output_type": "stream",
     "text": [
      "[[10 11 12 13 14 15 16 17 18 19 20 21 22 23 24 25 26 27 28 29 30 31 32 33\n",
      "  34 35 36 37 38 39]\n",
      " [40 41 42 43 44 45 46 47 48 49 50 51 52 53 54 55 56 57 58 59 60 61 62 63\n",
      "  64 65 66 67 68 69]\n",
      " [70 71 72 73 74 75 76 77 78 79 80 81 82 83 84 85 86 87 88 89 90 91 92 93\n",
      "  94 95 96 97 98 99]]\n"
     ]
    }
   ],
   "source": [
    "#5) reshape it to a 3x30\n",
    "Matrice = vector.reshape(3,30)\n",
    "print(Matrice)"
   ]
  },
  {
   "cell_type": "code",
   "execution_count": 6,
   "metadata": {},
   "outputs": [
    {
     "name": "stdout",
     "output_type": "stream",
     "text": [
      " Avem zero pe pozitia 3\n",
      " Avem zero pe pozitia 4\n",
      " Avem zero pe pozitia 7\n"
     ]
    }
   ],
   "source": [
    "#6) Create the vector with elems 1,2,9,0,0,1,4,0. Find indices of non-zero elems.\n",
    "vector_nou=[1, 2, 9, 0, 0, 1, 4, 0];\n",
    "for i in range(len(vector_nou)):\n",
    "    if vector_nou[i] == 0:\n",
    "        print(f' Avem zero pe pozitia {i}')"
   ]
  },
  {
   "cell_type": "code",
   "execution_count": 7,
   "metadata": {},
   "outputs": [
    {
     "name": "stdout",
     "output_type": "stream",
     "text": [
      "Matricea identitate: [[1. 0. 0.]\n",
      " [0. 1. 0.]\n",
      " [0. 0. 1.]]\n"
     ]
    }
   ],
   "source": [
    "#7) Create a 3x3 identity matrix\n",
    "identitatea = np.eye(3)\n",
    "print(f'Matricea identitate: {identitatea}')"
   ]
  },
  {
   "cell_type": "code",
   "execution_count": 8,
   "metadata": {},
   "outputs": [
    {
     "name": "stdout",
     "output_type": "stream",
     "text": [
      "[-0.15936195 -0.23422051 -0.07750447 -0.8196091   0.45184414 -0.59077217\n",
      " -0.35360292 -0.92427562 -0.05083398  0.79005267 -0.07611136 -0.01531824\n",
      " -0.67103651  0.86112639  0.00807534  0.44254435  0.02257431  0.20408653\n",
      "  0.71317735  0.53737332  0.27237805 -0.04706638  0.48698041  0.56673269\n",
      "  0.63746706  0.73808036  0.7786724  -0.90035895 -0.47633803  0.79265124\n",
      "  0.28559286 -0.28044771  0.70782742  0.02758442 -0.57901711 -0.86505673\n",
      " -0.13696478 -0.59726845 -0.01453526 -0.19758113 -0.175825    0.72046996\n",
      " -0.74064327 -0.60534582  0.33794098 -0.11020164 -0.48454848  0.73497976\n",
      " -0.57163318 -0.00126139]\n",
      "Media elementelor este 0.0072294367358720635\n"
     ]
    }
   ],
   "source": [
    "#8) Create a random vector of size 50 with values uniformely distributed in (-1, 1). Find the average of these values.\n",
    "s= np.random.uniform(-1,1,50)\n",
    "suma=sum(s);\n",
    "print(s)\n",
    "print(f'Media elementelor este {suma/50}')"
   ]
  },
  {
   "cell_type": "code",
   "execution_count": 9,
   "metadata": {},
   "outputs": [
    {
     "name": "stdout",
     "output_type": "stream",
     "text": [
      "[[0 1 0 0 0]\n",
      " [0 0 2 0 0]\n",
      " [0 0 0 3 0]\n",
      " [0 0 0 0 4]\n",
      " [0 0 0 0 0]]\n"
     ]
    }
   ],
   "source": [
    "#9) create a 5x5 matrix with 1,2,3,4 just below the 1st diag and 0 in rest.\n",
    "C = np.diag(1+np.arange(4),k=1)\n",
    "print(C)"
   ]
  },
  {
   "cell_type": "code",
   "execution_count": 10,
   "metadata": {},
   "outputs": [
    {
     "name": "stdout",
     "output_type": "stream",
     "text": [
      "Matricea A este: [[0.1708377  0.21587285 0.40923838]\n",
      " [0.73620214 0.69213395 0.49179141]\n",
      " [0.62078563 0.36073234 0.29818032]\n",
      " [0.50092855 0.07929077 0.07070068]\n",
      " [0.33639129 0.56765698 0.60469751]]\n",
      "Matricea B este :[[0.99328471 0.83609682 0.47167617 0.01961556]\n",
      " [0.10990124 0.76558364 0.59689206 0.75356559]\n",
      " [0.38970158 0.81883828 0.93178975 0.64265343]]\n",
      "A*B :[[0.35289601 0.64320563 0.59075699 0.42902388]\n",
      " [0.99897659 1.54812033 1.21862446 0.85206079]\n",
      " [0.77246314 1.03936913 0.78596942 0.47563915]\n",
      " [0.53383099 0.53742091 0.34948226 0.11501283]\n",
      " [0.6321701  1.21099405 1.06094863 0.8229762 ]]\n"
     ]
    }
   ],
   "source": [
    "#10) Create a 5x3 matrix and a 3x4 one. Multiply them.\n",
    "matricea_A=np.random.random((5,3))\n",
    "matricea_B=np.random.random((3,4))\n",
    "produsul_matricilor=np.dot(matricea_A,matricea_B)\n",
    "print(f'Matricea A este: {matricea_A}')\n",
    "print(f'Matricea B este :{matricea_B}')\n",
    "print(f'A*B :{produsul_matricilor}')"
   ]
  },
  {
   "cell_type": "code",
   "execution_count": 11,
   "metadata": {},
   "outputs": [
    {
     "name": "stdout",
     "output_type": "stream",
     "text": [
      "Metoda 1: [[0 0 0 0]\n",
      " [0 1 1 0]\n",
      " [0 1 0 0]\n",
      " [0 0 0 0]\n",
      " [0 1 1 0]]\n",
      "Metoda 2: [[0 0 0 0]\n",
      " [0 1 1 0]\n",
      " [0 1 0 0]\n",
      " [0 0 0 0]\n",
      " [0 1 1 0]]\n",
      "Metoda 3: [[0 0 0 0]\n",
      " [0 1 1 0]\n",
      " [0 1 0 0]\n",
      " [0 0 0 0]\n",
      " [0 1 1 0]]\n",
      "Metoda 4: [[0 0 0 0]\n",
      " [0 1 1 0]\n",
      " [0 1 0 0]\n",
      " [0 0 0 0]\n",
      " [0 1 1 0]]\n"
     ]
    }
   ],
   "source": [
    "#11) Using the previous matrix, extract a new one with just the integer part of the values. Find at least 4 methods of doing this.\n",
    "convert1=np.array(produsul_matricilor ,int)\n",
    "convert2=produsul_matricilor.astype(int)\n",
    "convert3=np.int_(produsul_matricilor)\n",
    "convert4=np.asarray(produsul_matricilor, dtype=int)\n",
    "print(f'Metoda 1: {convert1}')\n",
    "print(f'Metoda 2: {convert2}')\n",
    "print(f'Metoda 3: {convert3}')\n",
    "print(f'Metoda 4: {convert4}')"
   ]
  },
  {
   "cell_type": "code",
   "execution_count": 12,
   "metadata": {},
   "outputs": [
    {
     "name": "stdout",
     "output_type": "stream",
     "text": [
      "    Vectorul este :[0.18018104 0.9500055  0.60908914 0.57522863 0.79199937 0.38690009\n",
      " 0.6927862  0.76836765 0.16834181 0.09569365 0.199531   0.69345695\n",
      " 0.04301931 0.09440831 0.61829941 0.07270008 0.86635759 0.02127025\n",
      " 0.39404684 0.33098542 0.87434027 0.72037573 0.15839441 0.27887527\n",
      " 0.24703671]\n",
      "    Vectorul sortat este :[0.02127025 0.04301931 0.07270008 0.09440831 0.09569365 0.15839441\n",
      " 0.16834181 0.18018104 0.199531   0.24703671 0.27887527 0.33098542\n",
      " 0.38690009 0.39404684 0.57522863 0.60908914 0.61829941 0.6927862\n",
      " 0.69345695 0.72037573 0.76836765 0.79199937 0.86635759 0.87434027\n",
      " 0.9500055 ]\n"
     ]
    }
   ],
   "source": [
    "#12) Create a random vector of size 25. Sort it.\n",
    "random_vector=np.random.rand(25)\n",
    "print(f'    Vectorul este :{random_vector}')\n",
    "vectorul_sortat=np.sort(random_vector)\n",
    "print(f'    Vectorul sortat este :{vectorul_sortat}')"
   ]
  },
  {
   "cell_type": "code",
   "execution_count": 13,
   "metadata": {},
   "outputs": [
    {
     "name": "stdout",
     "output_type": "stream",
     "text": [
      "[0.60148719 1.24245131 0.78232003 0.59618983 0.28026261 0.39923522\n",
      " 0.76504243]\n",
      "[1.11325282 0.73162797 1.56075163 0.92192029 0.28564115 0.56898357\n",
      " 0.19172829]\n"
     ]
    }
   ],
   "source": [
    "#13) Create a random 7x2 matrix representing 7 2D points. Convert them to polar coordinates.\n",
    "Z = np.random.random((7,2))\n",
    "X,Y = Z[:,0], Z[:,1]\n",
    "R = np.sqrt(X**2+Y**2)\n",
    "T = np.arctan2(Y,X)\n",
    "print(R)\n",
    "print(T)"
   ]
  },
  {
   "cell_type": "code",
   "execution_count": 17,
   "metadata": {},
   "outputs": [
    {
     "name": "stdout",
     "output_type": "stream",
     "text": [
      "Matricea 10x10: [[ 0.          1.          2.          3.          4.          5.\n",
      "   6.          7.          8.          9.        ]\n",
      " [10.         11.         12.         13.         14.         15.\n",
      "  16.         17.         18.         19.        ]\n",
      " [20.         21.         22.         23.         24.         25.\n",
      "  26.         27.         28.         29.        ]\n",
      " [30.         31.         32.         33.         34.         35.\n",
      "  36.         37.         38.         39.        ]\n",
      " [40.         41.         42.         43.         44.         45.\n",
      "  46.         47.         48.         49.        ]\n",
      " [50.         51.         52.         53.         54.         55.\n",
      "  56.         57.         58.         59.        ]\n",
      " [60.         61.         62.         63.         64.         65.\n",
      "  66.         67.         68.         69.        ]\n",
      " [70.         71.         72.         73.         74.         75.\n",
      "  76.         77.         78.         79.        ]\n",
      " [80.         81.         82.         83.         84.         85.\n",
      "  86.         87.         88.         89.        ]\n",
      " [90.         91.         92.         93.         94.         95.\n",
      "  96.         97.         98.         80.29449233]]\n",
      "Numarul cel mai apropiat de numarul aleator este: 80\n"
     ]
    }
   ],
   "source": [
    "#14) Generate a 10x10 matrix. Generate a single random number. Find the number in the matrix closest to it.\n",
    "import random\n",
    "random_number=random.random()*100\n",
    "vectorul_pentru_matrice1=np.arange(0,99)\n",
    "vectorul_pentru_matrice2=np.append(vectorul_pentru_matrice1,random_number)\n",
    "noua_matrice=vectorul_pentru_matrice2.reshape(10,10)\n",
    "print(f'Matricea 10x10: {noua_matrice}')\n",
    "closest_number=(np.abs(vectorul_pentru_matrice1-random_number)).argmin()    \n",
    "print(f'Numarul cel mai apropiat de numarul aleator este: {closest_number}')    "
   ]
  },
  {
   "cell_type": "code",
   "execution_count": null,
   "metadata": {},
   "outputs": [],
   "source": []
  },
  {
   "cell_type": "code",
   "execution_count": null,
   "metadata": {},
   "outputs": [],
   "source": []
  }
 ],
 "metadata": {
  "kernelspec": {
   "display_name": "Python 3",
   "language": "python",
   "name": "python3"
  },
  "language_info": {
   "codemirror_mode": {
    "name": "ipython",
    "version": 3
   },
   "file_extension": ".py",
   "mimetype": "text/x-python",
   "name": "python",
   "nbconvert_exporter": "python",
   "pygments_lexer": "ipython3",
   "version": "3.7.4"
  }
 },
 "nbformat": 4,
 "nbformat_minor": 2
}
